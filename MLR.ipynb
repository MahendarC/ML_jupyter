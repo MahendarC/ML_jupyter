{
 "cells": [
  {
   "cell_type": "code",
   "execution_count": 6,
   "id": "795fbf23-1cd1-42f4-a7b4-c62481ee34bf",
   "metadata": {},
   "outputs": [
    {
     "name": "stdout",
     "output_type": "stream",
     "text": [
      "<class 'pandas.core.frame.DataFrame'>\n",
      "RangeIndex: 5154 entries, 0 to 5153\n",
      "Data columns (total 8 columns):\n",
      " #   Column               Non-Null Count  Dtype \n",
      "---  ------               --------------  ----- \n",
      " 0   Sr. No.              5154 non-null   int64 \n",
      " 1   Title                5154 non-null   object\n",
      " 2   Location             5154 non-null   object\n",
      " 3   No. of Bedrooms      5154 non-null   object\n",
      " 4   No. of Bathrooms     5154 non-null   object\n",
      " 5   Total Area (Sq.Ft.)  5154 non-null   object\n",
      " 6   Date of Listing      5154 non-null   object\n",
      " 7   Price                5154 non-null   object\n",
      "dtypes: int64(1), object(7)\n",
      "memory usage: 322.3+ KB\n"
     ]
    }
   ],
   "source": [
    "import pandas as pd\n",
    "\n",
    "df = pd.read_csv('Quickr_Properties.csv')\n",
    "df.head()\n",
    "df.info()"
   ]
  },
  {
   "cell_type": "code",
   "execution_count": 7,
   "id": "97e5a581-2479-4fb9-a678-1f133c9ab14b",
   "metadata": {},
   "outputs": [
    {
     "data": {
      "text/plain": [
       "5154"
      ]
     },
     "execution_count": 7,
     "metadata": {},
     "output_type": "execute_result"
    }
   ],
   "source": [
    "len(df)"
   ]
  },
  {
   "cell_type": "code",
   "execution_count": 10,
   "id": "b19f8cc5-71ac-48ac-8502-61a8c01c7c9e",
   "metadata": {},
   "outputs": [
    {
     "data": {
      "text/plain": [
       "(5154, 8)"
      ]
     },
     "execution_count": 10,
     "metadata": {},
     "output_type": "execute_result"
    }
   ],
   "source": [
    "df.shape"
   ]
  },
  {
   "cell_type": "code",
   "execution_count": null,
   "id": "d3e4c58a-3ec5-4aea-b130-547d332a09d4",
   "metadata": {},
   "outputs": [],
   "source": []
  },
  {
   "cell_type": "code",
   "execution_count": null,
   "id": "b56ae50a-3539-49fd-8208-9fc5cbdd3980",
   "metadata": {},
   "outputs": [],
   "source": []
  },
  {
   "cell_type": "code",
   "execution_count": null,
   "id": "ea6c27d0-3594-4506-aae2-6be0ec66b29a",
   "metadata": {},
   "outputs": [],
   "source": []
  },
  {
   "cell_type": "code",
   "execution_count": null,
   "id": "5112da84-c11f-4319-8675-48ef84eb3ff4",
   "metadata": {},
   "outputs": [],
   "source": []
  }
 ],
 "metadata": {
  "kernelspec": {
   "display_name": "Python 3 (ipykernel)",
   "language": "python",
   "name": "python3"
  },
  "language_info": {
   "codemirror_mode": {
    "name": "ipython",
    "version": 3
   },
   "file_extension": ".py",
   "mimetype": "text/x-python",
   "name": "python",
   "nbconvert_exporter": "python",
   "pygments_lexer": "ipython3",
   "version": "3.12.7"
  }
 },
 "nbformat": 4,
 "nbformat_minor": 5
}
